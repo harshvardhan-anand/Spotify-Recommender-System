{
 "cells": [
  {
   "cell_type": "code",
   "execution_count": 18,
   "metadata": {},
   "outputs": [
    {
     "name": "stdout",
     "output_type": "stream",
     "text": [
      "3 3\n",
      "8 9 10\n",
      "10 8 8\n",
      "1 2\n"
     ]
    }
   ],
   "source": [
    "alena_oc, boris_oc = [int(x) for x in input().split()]\n",
    "\n",
    "alena = [int(x) for x in input().split()]\n",
    "boris = [int(x) for x in input().split()]\n",
    "\n",
    "boris.reverse()\n",
    "\n",
    "loop = max(alena_oc, boris_oc)\n",
    "\n",
    "al_sc = bo_sc = 0\n",
    "\n",
    "for i in range(loop):\n",
    "    try:\n",
    "        if alena[i]>boris[i]:\n",
    "            al_sc += 1\n",
    "        else:\n",
    "            bo_sc += 1\n",
    "    except:\n",
    "        break\n",
    "\n",
    "print(al_sc, bo_sc)"
   ]
  },
  {
   "cell_type": "code",
   "execution_count": 20,
   "metadata": {},
   "outputs": [
    {
     "name": "stdout",
     "output_type": "stream",
     "text": [
      "39\n",
      "1\n"
     ]
    }
   ],
   "source": [
    "x = input()\n",
    "rev = x[::-1]\n",
    "x = int(x)\n",
    "rev = int(rev)\n",
    "\n",
    "if x<rev:\n",
    "    print(1)\n",
    "else:\n",
    "    print(0)"
   ]
  },
  {
   "cell_type": "code",
   "execution_count": 29,
   "metadata": {},
   "outputs": [
    {
     "name": "stdout",
     "output_type": "stream",
     "text": [
      "34\n",
      "1 8 6 4 1\n",
      "1 8 6 4 "
     ]
    }
   ],
   "source": [
    "input()\n",
    "x = [int(i) for i in input().split()]\n",
    "s = []\n",
    "\n",
    "for i in x:\n",
    "    if i not in s:\n",
    "        s.append(i)\n",
    "        \n",
    "for i in s:\n",
    "    print(i, end=' ')"
   ]
  },
  {
   "cell_type": "code",
   "execution_count": 32,
   "metadata": {},
   "outputs": [
    {
     "name": "stdout",
     "output_type": "stream",
     "text": [
      "54 32\n",
      "45 23 "
     ]
    }
   ],
   "source": [
    "for i in [str(i)[::-1] for i in [int(l) for l in input().split()]]:\n",
    "    print(i, end=' ')"
   ]
  },
  {
   "cell_type": "code",
   "execution_count": 35,
   "metadata": {},
   "outputs": [
    {
     "data": {
      "text/plain": [
       "26"
      ]
     },
     "execution_count": 35,
     "metadata": {},
     "output_type": "execute_result"
    }
   ],
   "source": [
    "len(('2 7 5 5 5 6 7 9 3 5 5 8 6 1 8 6 8 1 7 6 2 2 8 9 1 4').split())"
   ]
  },
  {
   "cell_type": "code",
   "execution_count": 36,
   "metadata": {},
   "outputs": [],
   "source": [
    "import string\n",
    "\n",
    "x = input()\n",
    "y = [int(x) for x in input().split()]\n",
    "z = 0\n",
    "for i in x:\n",
    "    z += y[string.ascii_lowercase.index(i)]\n",
    "print(z)    "
   ]
  },
  {
   "cell_type": "code",
   "execution_count": 43,
   "metadata": {},
   "outputs": [
    {
     "data": {
      "text/plain": [
       "45"
      ]
     },
     "execution_count": 43,
     "metadata": {},
     "output_type": "execute_result"
    }
   ],
   "source": [
    "z"
   ]
  },
  {
   "cell_type": "code",
   "execution_count": null,
   "metadata": {},
   "outputs": [],
   "source": []
  }
 ],
 "metadata": {
  "kernelspec": {
   "display_name": "Python 3",
   "language": "python",
   "name": "python3"
  },
  "language_info": {
   "codemirror_mode": {
    "name": "ipython",
    "version": 3
   },
   "file_extension": ".py",
   "mimetype": "text/x-python",
   "name": "python",
   "nbconvert_exporter": "python",
   "pygments_lexer": "ipython3",
   "version": "3.8.3"
  }
 },
 "nbformat": 4,
 "nbformat_minor": 4
}
